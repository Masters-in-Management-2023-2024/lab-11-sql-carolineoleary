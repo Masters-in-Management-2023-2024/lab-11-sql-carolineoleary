{
  "cells": [
    {
      "cell_type": "markdown",
      "metadata": {
        "id": "iT3v5rrR6Z5H"
      },
      "source": [
        "# Lab Exercise: SQL Analysis with Polars\n",
        "\n",
        "In this lab, you'll practice SQL queries using Polars' built-in SQL functionality. Complete each exercise by writing the appropriate SQL query."
      ]
    },
    {
      "cell_type": "code",
      "execution_count": 4,
      "metadata": {
        "id": "vZVPPLr06Z5L",
        "colab": {
          "base_uri": "https://localhost:8080/"
        },
        "outputId": "bfe79f4d-8d74-4ee1-9491-514eb0003b38"
      },
      "outputs": [
        {
          "output_type": "stream",
          "name": "stdout",
          "text": [
            "Setup complete! Tables available:\n",
            "shape: (5, 1)\n",
            "┌──────────┐\n",
            "│ name     │\n",
            "│ ---      │\n",
            "│ str      │\n",
            "╞══════════╡\n",
            "│ airlines │\n",
            "│ airports │\n",
            "│ flights  │\n",
            "│ planes   │\n",
            "│ weather  │\n",
            "└──────────┘\n"
          ]
        },
        {
          "output_type": "stream",
          "name": "stderr",
          "text": [
            "/tmp/ipython-input-3019050710.py:15: DeprecationWarning: The argument `eager_execution` for `SQLContext.__init__` is deprecated. It has been renamed to `eager`.\n",
            "  ctx = pl.SQLContext(\n"
          ]
        }
      ],
      "source": [
        "# Setup - Run this cell first\n",
        "import polars as pl\n",
        "\n",
        "# Load data\n",
        "airlines = pl.read_csv('https://raw.githubusercontent.com/philhetzel/opan5510-class11/refs/heads/main/data/nyc_airlines.csv')\n",
        "airports = pl.read_csv('https://raw.githubusercontent.com/philhetzel/opan5510-class11/refs/heads/main/data/nyc_airports.csv')\n",
        "flights = pl.read_csv('https://raw.githubusercontent.com/philhetzel/opan5510-class11/refs/heads/main/data/nyc_flights.csv', null_values = \"NA\")\n",
        "planes = pl.read_csv('https://raw.githubusercontent.com/philhetzel/opan5510-class11/refs/heads/main/data/nyc_planes.csv', null_values = \"NA\")\n",
        "weather = pl.read_csv('https://raw.githubusercontent.com/philhetzel/opan5510-class11/refs/heads/main/data/nyc_weather.csv', null_values = \"NA\", infer_schema_length=1000)\n",
        "\n",
        "flights = flights.with_columns(pl.col(\"time_hour\").str.strptime(pl.Datetime))\n",
        "weather = weather.with_columns(pl.col(\"time_hour\").str.strptime(pl.Datetime))\n",
        "\n",
        "# Create SQL context\n",
        "ctx = pl.SQLContext(\n",
        "    airlines=airlines,\n",
        "    airports=airports,\n",
        "    flights=flights,\n",
        "    planes=planes,\n",
        "    weather=weather,\n",
        "    eager_execution=True\n",
        ")\n",
        "\n",
        "print(\"Setup complete! Tables available:\")\n",
        "print(ctx.execute(\"SHOW TABLES\"))"
      ]
    },
    {
      "cell_type": "markdown",
      "metadata": {
        "id": "6NRzI7ye6Z5N"
      },
      "source": [
        "## Exercise 1: Basic Queries\n",
        "\n",
        "### 1.1 Find all unique carriers in the airlines table"
      ]
    },
    {
      "cell_type": "code",
      "execution_count": 7,
      "metadata": {
        "id": "LbIEZQZG6Z5O",
        "colab": {
          "base_uri": "https://localhost:8080/"
        },
        "outputId": "5f34f4f5-79af-4e33-df7e-3588d5cfbb47"
      },
      "outputs": [
        {
          "output_type": "stream",
          "name": "stdout",
          "text": [
            "shape: (16, 1)\n",
            "┌─────────┐\n",
            "│ carrier │\n",
            "│ ---     │\n",
            "│ str     │\n",
            "╞═════════╡\n",
            "│ 9E      │\n",
            "│ AA      │\n",
            "│ AS      │\n",
            "│ B6      │\n",
            "│ DL      │\n",
            "│ …       │\n",
            "│ UA      │\n",
            "│ US      │\n",
            "│ VX      │\n",
            "│ WN      │\n",
            "│ YV      │\n",
            "└─────────┘\n"
          ]
        }
      ],
      "source": [
        "# Write your SQL query here\n",
        "\n",
        "# Make sure to run the setup cell above first!\n",
        "result = ctx.execute(\"\"\"\n",
        "SELECT DISTINCT carrier\n",
        "FROM airlines\n",
        "\"\"\")\n",
        "\n",
        "print(result)"
      ]
    },
    {
      "cell_type": "markdown",
      "metadata": {
        "id": "UGdtiqeE6Z5O"
      },
      "source": [
        "### 1.2 Find the top 10 destinations by number of flights"
      ]
    },
    {
      "cell_type": "code",
      "execution_count": 8,
      "metadata": {
        "id": "zNGXfp_66Z5O",
        "colab": {
          "base_uri": "https://localhost:8080/"
        },
        "outputId": "a8def527-4ea7-41ce-b3a0-a4e7da2d4a7f"
      },
      "outputs": [
        {
          "output_type": "stream",
          "name": "stdout",
          "text": [
            "shape: (10, 2)\n",
            "┌──────┬──────────────┐\n",
            "│ dest ┆ flight_count │\n",
            "│ ---  ┆ ---          │\n",
            "│ str  ┆ u32          │\n",
            "╞══════╪══════════════╡\n",
            "│ ORD  ┆ 17283        │\n",
            "│ ATL  ┆ 17215        │\n",
            "│ LAX  ┆ 16174        │\n",
            "│ BOS  ┆ 15508        │\n",
            "│ MCO  ┆ 14082        │\n",
            "│ CLT  ┆ 14064        │\n",
            "│ SFO  ┆ 13331        │\n",
            "│ FLL  ┆ 12055        │\n",
            "│ MIA  ┆ 11728        │\n",
            "│ DCA  ┆ 9705         │\n",
            "└──────┴──────────────┘\n"
          ]
        }
      ],
      "source": [
        "# Write your SQL query here\n",
        "result = ctx.execute(\"\"\"\n",
        "  SELECT dest, COUNT(*) AS flight_count\n",
        "  FROM flights\n",
        "  GROUP BY dest\n",
        "  ORDER BY flight_count DESC\n",
        "  LIMIT 10\n",
        "\"\"\")\n",
        "\n",
        "print(result)"
      ]
    },
    {
      "cell_type": "markdown",
      "metadata": {
        "id": "RXCLtJqX6Z5P"
      },
      "source": [
        "### 1.3 Find all flights that departed more than 2 hours late (120 minutes)"
      ]
    },
    {
      "cell_type": "code",
      "execution_count": 9,
      "metadata": {
        "id": "gnB7Z6HM6Z5P",
        "colab": {
          "base_uri": "https://localhost:8080/"
        },
        "outputId": "c137da97-6121-4201-8627-a20d7f11f242"
      },
      "outputs": [
        {
          "output_type": "stream",
          "name": "stdout",
          "text": [
            "shape: (9_723, 19)\n",
            "┌──────┬───────┬─────┬──────────┬───┬──────────┬──────┬────────┬─────────────────────────┐\n",
            "│ year ┆ month ┆ day ┆ dep_time ┆ … ┆ distance ┆ hour ┆ minute ┆ time_hour               │\n",
            "│ ---  ┆ ---   ┆ --- ┆ ---      ┆   ┆ ---      ┆ ---  ┆ ---    ┆ ---                     │\n",
            "│ i64  ┆ i64   ┆ i64 ┆ i64      ┆   ┆ i64      ┆ i64  ┆ i64    ┆ datetime[μs, UTC]       │\n",
            "╞══════╪═══════╪═════╪══════════╪═══╪══════════╪══════╪════════╪═════════════════════════╡\n",
            "│ 2013 ┆ 1     ┆ 1   ┆ 848      ┆ … ┆ 184      ┆ 18   ┆ 35     ┆ 2013-01-01 23:00:00 UTC │\n",
            "│ 2013 ┆ 1     ┆ 1   ┆ 957      ┆ … ┆ 200      ┆ 7    ┆ 33     ┆ 2013-01-01 12:00:00 UTC │\n",
            "│ 2013 ┆ 1     ┆ 1   ┆ 1114     ┆ … ┆ 1416     ┆ 9    ┆ 0      ┆ 2013-01-01 14:00:00 UTC │\n",
            "│ 2013 ┆ 1     ┆ 1   ┆ 1540     ┆ … ┆ 1598     ┆ 13   ┆ 38     ┆ 2013-01-01 18:00:00 UTC │\n",
            "│ 2013 ┆ 1     ┆ 1   ┆ 1815     ┆ … ┆ 1134     ┆ 13   ┆ 25     ┆ 2013-01-01 18:00:00 UTC │\n",
            "│ …    ┆ …     ┆ …   ┆ …        ┆ … ┆ …        ┆ …    ┆ …      ┆ …                       │\n",
            "│ 2013 ┆ 9     ┆ 30  ┆ 1823     ┆ … ┆ 765      ┆ 15   ┆ 45     ┆ 2013-09-30 19:00:00 UTC │\n",
            "│ 2013 ┆ 9     ┆ 30  ┆ 1951     ┆ … ┆ 708      ┆ 16   ┆ 49     ┆ 2013-09-30 20:00:00 UTC │\n",
            "│ 2013 ┆ 9     ┆ 30  ┆ 2053     ┆ … ┆ 746      ┆ 18   ┆ 15     ┆ 2013-09-30 22:00:00 UTC │\n",
            "│ 2013 ┆ 9     ┆ 30  ┆ 2159     ┆ … ┆ 301      ┆ 18   ┆ 45     ┆ 2013-09-30 22:00:00 UTC │\n",
            "│ 2013 ┆ 9     ┆ 30  ┆ 2235     ┆ … ┆ 944      ┆ 20   ┆ 1      ┆ 2013-10-01 00:00:00 UTC │\n",
            "└──────┴───────┴─────┴──────────┴───┴──────────┴──────┴────────┴─────────────────────────┘\n"
          ]
        }
      ],
      "source": [
        "# Write your SQL query here\n",
        "result = ctx.execute(\"\"\"\n",
        "  SELECT *\n",
        "  FROM flights\n",
        "  WHERE dep_delay > 120\n",
        "\"\"\")\n",
        "\n",
        "print(result)"
      ]
    },
    {
      "cell_type": "markdown",
      "metadata": {
        "id": "zHUs7SJP6Z5P"
      },
      "source": [
        "## Exercise 2: Aggregation\n",
        "\n",
        "### 2.1 Calculate the average departure delay for each origin airport"
      ]
    },
    {
      "cell_type": "code",
      "execution_count": 11,
      "metadata": {
        "id": "zayxp_zF6Z5Q",
        "colab": {
          "base_uri": "https://localhost:8080/"
        },
        "outputId": "1e59e45c-2939-4c09-a8f5-94ef629362e1"
      },
      "outputs": [
        {
          "output_type": "stream",
          "name": "stdout",
          "text": [
            "shape: (3, 2)\n",
            "┌────────┬───────────┐\n",
            "│ origin ┆ avg_delay │\n",
            "│ ---    ┆ ---       │\n",
            "│ str    ┆ f64       │\n",
            "╞════════╪═══════════╡\n",
            "│ LGA    ┆ 10.346876 │\n",
            "│ EWR    ┆ 15.107954 │\n",
            "│ JFK    ┆ 12.112159 │\n",
            "└────────┴───────────┘\n"
          ]
        }
      ],
      "source": [
        "# Write your SQL query here\n",
        "result = ctx.execute(\"\"\"\n",
        "SELECT\n",
        "    origin,\n",
        "    AVG(dep_delay) as avg_delay\n",
        "FROM flights\n",
        "GROUP BY origin\n",
        "\"\"\")\n",
        "\n",
        "print(result)"
      ]
    },
    {
      "cell_type": "markdown",
      "metadata": {
        "id": "88EBRYOY6Z5Q"
      },
      "source": [
        "### 2.2 Find the busiest month of the year\n",
        "\n",
        "Count the number of flights per month and find which month has the most flights."
      ]
    },
    {
      "cell_type": "code",
      "execution_count": 14,
      "metadata": {
        "id": "gv5Fotao6Z5Q",
        "colab": {
          "base_uri": "https://localhost:8080/"
        },
        "outputId": "1f783b23-d528-42fe-ea45-140706acf7a1"
      },
      "outputs": [
        {
          "output_type": "stream",
          "name": "stdout",
          "text": [
            "shape: (5, 19)\n",
            "┌──────┬───────┬─────┬──────────┬───┬──────────┬──────┬────────┬─────────────────────────┐\n",
            "│ year ┆ month ┆ day ┆ dep_time ┆ … ┆ distance ┆ hour ┆ minute ┆ time_hour               │\n",
            "│ ---  ┆ ---   ┆ --- ┆ ---      ┆   ┆ ---      ┆ ---  ┆ ---    ┆ ---                     │\n",
            "│ i64  ┆ i64   ┆ i64 ┆ i64      ┆   ┆ i64      ┆ i64  ┆ i64    ┆ datetime[μs, UTC]       │\n",
            "╞══════╪═══════╪═════╪══════════╪═══╪══════════╪══════╪════════╪═════════════════════════╡\n",
            "│ 2013 ┆ 1     ┆ 1   ┆ 517      ┆ … ┆ 1400     ┆ 5    ┆ 15     ┆ 2013-01-01 10:00:00 UTC │\n",
            "│ 2013 ┆ 1     ┆ 1   ┆ 533      ┆ … ┆ 1416     ┆ 5    ┆ 29     ┆ 2013-01-01 10:00:00 UTC │\n",
            "│ 2013 ┆ 1     ┆ 1   ┆ 542      ┆ … ┆ 1089     ┆ 5    ┆ 40     ┆ 2013-01-01 10:00:00 UTC │\n",
            "│ 2013 ┆ 1     ┆ 1   ┆ 544      ┆ … ┆ 1576     ┆ 5    ┆ 45     ┆ 2013-01-01 10:00:00 UTC │\n",
            "│ 2013 ┆ 1     ┆ 1   ┆ 554      ┆ … ┆ 762      ┆ 6    ┆ 0      ┆ 2013-01-01 11:00:00 UTC │\n",
            "└──────┴───────┴─────┴──────────┴───┴──────────┴──────┴────────┴─────────────────────────┘\n",
            "shape: (1, 2)\n",
            "┌───────┬──────────────┐\n",
            "│ month ┆ flight_count │\n",
            "│ ---   ┆ ---          │\n",
            "│ i64   ┆ u32          │\n",
            "╞═══════╪══════════════╡\n",
            "│ 7     ┆ 29425        │\n",
            "└───────┴──────────────┘\n"
          ]
        }
      ],
      "source": [
        "# First, let's check what columns are available\n",
        "result = ctx.execute(\"\"\"\n",
        "    SELECT *\n",
        "    FROM flights\n",
        "    LIMIT 5\n",
        "\"\"\")\n",
        "print(result)\n",
        "\n",
        "# Now write your query to find busiest month\n",
        "result = ctx.execute(\"\"\"\n",
        "SELECT month, COUNT(*) AS flight_count\n",
        "FROM flights\n",
        "GROUP BY month\n",
        "ORDER BY flight_count DESC\n",
        "LIMIT 1\n",
        "\"\"\")\n",
        "\n",
        "print(result)"
      ]
    },
    {
      "cell_type": "markdown",
      "metadata": {
        "id": "vwWVriSB6Z5R"
      },
      "source": [
        "### 2.3 Calculate the on-time performance rate for each carrier\n",
        "\n",
        "Consider a flight on-time if the departure delay is <= 15 minutes."
      ]
    },
    {
      "cell_type": "code",
      "execution_count": 20,
      "metadata": {
        "id": "bAczUG3P6Z5R",
        "colab": {
          "base_uri": "https://localhost:8080/"
        },
        "outputId": "1fe34853-97c9-46fa-c916-adfe611f3ca4"
      },
      "outputs": [
        {
          "output_type": "stream",
          "name": "stdout",
          "text": [
            "shape: (16, 2)\n",
            "┌─────────┬─────────────┐\n",
            "│ carrier ┆ ontime_rate │\n",
            "│ ---     ┆ ---         │\n",
            "│ str     ┆ f64         │\n",
            "╞═════════╪═════════════╡\n",
            "│ F9      ┆ 0.715328    │\n",
            "│ YV      ┆ 0.647255    │\n",
            "│ OO      ┆ 0.71875     │\n",
            "│ AA      ┆ 0.824376    │\n",
            "│ US      ┆ 0.849873    │\n",
            "│ …       ┆ …           │\n",
            "│ B6      ┆ 0.76537     │\n",
            "│ WN      ┆ 0.719593    │\n",
            "│ AS      ┆ 0.865546    │\n",
            "│ UA      ┆ 0.780431    │\n",
            "│ 9E      ┆ 0.701246    │\n",
            "└─────────┴─────────────┘\n"
          ]
        }
      ],
      "source": [
        "# Write your SQL query here\n",
        "result = ctx.execute(\"\"\"\n",
        "SELECT\n",
        "    carrier,\n",
        "    AVG(CASE WHEN dep_delay <= 15 THEN 1 ELSE 0 END) AS ontime_rate\n",
        "FROM flights\n",
        "GROUP BY carrier;\n",
        "\"\"\")\n",
        "print(result)"
      ]
    },
    {
      "cell_type": "markdown",
      "metadata": {
        "id": "-qcXet4X6Z5R"
      },
      "source": [
        "## Exercise 3: Joins\n",
        "\n",
        "### 3.1 List all flights with their airline names (not just carrier codes)\n",
        "\n",
        "Show the first 20 flights with carrier code, airline name, flight number, origin, and destination."
      ]
    },
    {
      "cell_type": "code",
      "execution_count": 24,
      "metadata": {
        "id": "H8Ob_VZg6Z5S",
        "colab": {
          "base_uri": "https://localhost:8080/"
        },
        "outputId": "12b9bc0c-dbb3-43d1-c73f-03ff0201aa70"
      },
      "outputs": [
        {
          "output_type": "stream",
          "name": "stdout",
          "text": [
            "shape: (20, 5)\n",
            "┌─────────┬────────────────────────┬────────┬────────┬──────┐\n",
            "│ carrier ┆ airline_name           ┆ flight ┆ origin ┆ dest │\n",
            "│ ---     ┆ ---                    ┆ ---    ┆ ---    ┆ ---  │\n",
            "│ str     ┆ str                    ┆ i64    ┆ str    ┆ str  │\n",
            "╞═════════╪════════════════════════╪════════╪════════╪══════╡\n",
            "│ UA      ┆ United Air Lines Inc.  ┆ 1545   ┆ EWR    ┆ IAH  │\n",
            "│ UA      ┆ United Air Lines Inc.  ┆ 1714   ┆ LGA    ┆ IAH  │\n",
            "│ AA      ┆ American Airlines Inc. ┆ 1141   ┆ JFK    ┆ MIA  │\n",
            "│ B6      ┆ JetBlue Airways        ┆ 725    ┆ JFK    ┆ BQN  │\n",
            "│ DL      ┆ Delta Air Lines Inc.   ┆ 461    ┆ LGA    ┆ ATL  │\n",
            "│ …       ┆ …                      ┆ …      ┆ …      ┆ …    │\n",
            "│ B6      ┆ JetBlue Airways        ┆ 1806   ┆ JFK    ┆ BOS  │\n",
            "│ UA      ┆ United Air Lines Inc.  ┆ 1187   ┆ EWR    ┆ LAS  │\n",
            "│ B6      ┆ JetBlue Airways        ┆ 371    ┆ LGA    ┆ FLL  │\n",
            "│ MQ      ┆ Envoy Air              ┆ 4650   ┆ LGA    ┆ ATL  │\n",
            "│ B6      ┆ JetBlue Airways        ┆ 343    ┆ EWR    ┆ PBI  │\n",
            "└─────────┴────────────────────────┴────────┴────────┴──────┘\n"
          ]
        }
      ],
      "source": [
        "# Write your SQL query here\n",
        "result = ctx.execute(\"\"\"\n",
        "SELECT\n",
        "  f.carrier,\n",
        "  a.name AS airline_name,\n",
        "  f.flight,\n",
        "  f.origin,\n",
        "  f.dest\n",
        "FROM flights f\n",
        "JOIN airlines a ON f.carrier = a.carrier\n",
        "LIMIT 20\n",
        "\"\"\")\n",
        "\n",
        "print(result)"
      ]
    },
    {
      "cell_type": "markdown",
      "metadata": {
        "id": "1IS6-tLZ6Z5S"
      },
      "source": [
        "### 3.2 Find the average age of planes for each carrier\n",
        "\n",
        "Hint: The planes table has a `year` column for manufacture year. Calculate age based on 2013."
      ]
    },
    {
      "cell_type": "code",
      "execution_count": 25,
      "metadata": {
        "id": "J-2owGAY6Z5S",
        "colab": {
          "base_uri": "https://localhost:8080/"
        },
        "outputId": "15b5f05c-50a6-407e-e712-0de2a2b8445e"
      },
      "outputs": [
        {
          "output_type": "stream",
          "name": "stdout",
          "text": [
            "shape: (16, 2)\n",
            "┌─────────┬───────────────────┐\n",
            "│ carrier ┆ average_plane_age │\n",
            "│ ---     ┆ ---               │\n",
            "│ str     ┆ f64               │\n",
            "╞═════════╪═══════════════════╡\n",
            "│ FL      ┆ 11.385829         │\n",
            "│ AA      ┆ 25.869426         │\n",
            "│ YV      ┆ 9.313758          │\n",
            "│ US      ┆ 9.103663          │\n",
            "│ AS      ┆ 3.33662           │\n",
            "│ …       ┆ …                 │\n",
            "│ 9E      ┆ 7.101053          │\n",
            "│ MQ      ┆ 35.319            │\n",
            "│ UA      ┆ 13.207691         │\n",
            "│ F9      ┆ 4.87874           │\n",
            "│ OO      ┆ 6.84375           │\n",
            "└─────────┴───────────────────┘\n"
          ]
        }
      ],
      "source": [
        "# Write your SQL query here\n",
        "result = ctx.execute(\"\"\"\n",
        "SELECT\n",
        "    f.carrier,\n",
        "    AVG(2013 - p.year) AS average_plane_age\n",
        "FROM flights f\n",
        "JOIN planes p ON f.tailnum = p.tailnum\n",
        "WHERE p.year IS NOT NULL\n",
        "GROUP BY f.carrier\n",
        "\"\"\")\n",
        "\n",
        "print(result)"
      ]
    },
    {
      "cell_type": "markdown",
      "metadata": {
        "id": "jrA6JOvR6Z5T"
      },
      "source": [
        "### 3.3 Find flights that experienced both departure delays and bad weather\n",
        "\n",
        "Join flights with weather data and find flights where departure delay > 30 minutes and either wind_speed > 20 or precip > 0.1"
      ]
    },
    {
      "cell_type": "code",
      "execution_count": 28,
      "metadata": {
        "id": "DDkf__bj6Z5T",
        "colab": {
          "base_uri": "https://localhost:8080/"
        },
        "outputId": "754cddf7-1dda-4bcc-a8a3-903b5c1b8eea"
      },
      "outputs": [
        {
          "output_type": "stream",
          "name": "stdout",
          "text": [
            "shape: (4_938, 8)\n",
            "┌──────┬───────┬─────┬───────────┬────────┬──────┬────────────┬────────┐\n",
            "│ year ┆ month ┆ day ┆ dep_delay ┆ origin ┆ dest ┆ wind_speed ┆ precip │\n",
            "│ ---  ┆ ---   ┆ --- ┆ ---       ┆ ---    ┆ ---  ┆ ---        ┆ ---    │\n",
            "│ i64  ┆ i64   ┆ i64 ┆ i64       ┆ str    ┆ str  ┆ f64        ┆ f64    │\n",
            "╞══════╪═══════╪═════╪═══════════╪════════╪══════╪════════════╪════════╡\n",
            "│ 2013 ┆ 1     ┆ 1   ┆ 47        ┆ JFK    ┆ TPA  ┆ 21.86482   ┆ 0.0    │\n",
            "│ 2013 ┆ 1     ┆ 1   ┆ 116       ┆ JFK    ┆ LAS  ┆ 21.86482   ┆ 0.0    │\n",
            "│ 2013 ┆ 1     ┆ 4   ┆ 39        ┆ EWR    ┆ JAX  ┆ 20.71404   ┆ 0.0    │\n",
            "│ 2013 ┆ 1     ┆ 4   ┆ 40        ┆ EWR    ┆ IAD  ┆ 24.16638   ┆ 0.0    │\n",
            "│ 2013 ┆ 1     ┆ 4   ┆ 33        ┆ JFK    ┆ BOS  ┆ 20.71404   ┆ 0.0    │\n",
            "│ …    ┆ …     ┆ …   ┆ …         ┆ …      ┆ …    ┆ …          ┆ …      │\n",
            "│ 2013 ┆ 9     ┆ 22  ┆ 41        ┆ LGA    ┆ ATL  ┆ 20.71404   ┆ 0.0    │\n",
            "│ 2013 ┆ 9     ┆ 22  ┆ 97        ┆ LGA    ┆ PIT  ┆ 20.71404   ┆ 0.0    │\n",
            "│ 2013 ┆ 9     ┆ 22  ┆ 42        ┆ JFK    ┆ PHX  ┆ 21.86482   ┆ 0.0    │\n",
            "│ 2013 ┆ 9     ┆ 22  ┆ 46        ┆ JFK    ┆ LAX  ┆ 21.86482   ┆ 0.0    │\n",
            "│ 2013 ┆ 9     ┆ 22  ┆ 45        ┆ JFK    ┆ BOS  ┆ 21.86482   ┆ 0.0    │\n",
            "└──────┴───────┴─────┴───────────┴────────┴──────┴────────────┴────────┘\n"
          ]
        }
      ],
      "source": [
        "# First, explore the weather table structure\n",
        "result = ctx.execute(\"\"\"\n",
        "    SELECT\n",
        "        f.year,\n",
        "        f.month,\n",
        "        f.day,\n",
        "        f.dep_delay,\n",
        "        f.origin,\n",
        "        f.dest,\n",
        "        w.wind_speed,\n",
        "        w.precip\n",
        "    FROM flights AS f\n",
        "    JOIN weather AS w\n",
        "        ON f.origin = w.origin\n",
        "        AND f.year = w.year\n",
        "        AND f.month = w.month\n",
        "        AND f.day = w.day\n",
        "        AND f.hour = w.hour\n",
        "    WHERE f.dep_delay > 30\n",
        "      AND (w.wind_speed > 20 OR w.precip > 0.1)\n",
        "\"\"\")\n",
        "\n",
        "print(result)\n"
      ]
    },
    {
      "cell_type": "markdown",
      "metadata": {
        "id": "biHyByN36Z5T"
      },
      "source": [
        "## Exercise 4: Advanced Queries\n",
        "\n",
        "### 4.1 Find the most popular aircraft types (by number of flights)\n",
        "\n",
        "Join flights with planes to get manufacturer and model information. Show top 10."
      ]
    },
    {
      "cell_type": "code",
      "execution_count": 29,
      "metadata": {
        "id": "3sblIDy16Z5T",
        "colab": {
          "base_uri": "https://localhost:8080/"
        },
        "outputId": "84719323-376b-4542-9b51-d150e6986bd7"
      },
      "outputs": [
        {
          "output_type": "stream",
          "name": "stdout",
          "text": [
            "shape: (10, 3)\n",
            "┌───────────────────────────────┬─────────────────┬──────────────┐\n",
            "│ manufacturer                  ┆ model           ┆ flight_count │\n",
            "│ ---                           ┆ ---             ┆ ---          │\n",
            "│ str                           ┆ str             ┆ u32          │\n",
            "╞═══════════════════════════════╪═════════════════╪══════════════╡\n",
            "│ AIRBUS                        ┆ A320-232        ┆ 31278        │\n",
            "│ EMBRAER                       ┆ EMB-145LR       ┆ 28027        │\n",
            "│ EMBRAER                       ┆ ERJ 190-100 IGW ┆ 23716        │\n",
            "│ AIRBUS INDUSTRIE              ┆ A320-232        ┆ 14553        │\n",
            "│ EMBRAER                       ┆ EMB-145XR       ┆ 14051        │\n",
            "│ BOEING                        ┆ 737-824         ┆ 13809        │\n",
            "│ BOMBARDIER INC                ┆ CL-600-2D24     ┆ 11807        │\n",
            "│ BOEING                        ┆ 737-7H4         ┆ 10389        │\n",
            "│ BOEING                        ┆ 757-222         ┆ 9150         │\n",
            "│ MCDONNELL DOUGLAS AIRCRAFT CO ┆ MD-88           ┆ 8932         │\n",
            "└───────────────────────────────┴─────────────────┴──────────────┘\n"
          ]
        }
      ],
      "source": [
        "# Write your SQL query here\n",
        "result = ctx.execute(\"\"\"\n",
        "SELECT\n",
        "    p.manufacturer,\n",
        "    p.model,\n",
        "    COUNT(*) AS flight_count\n",
        "FROM flights f\n",
        "JOIN planes p ON f.tailnum = p.tailnum\n",
        "GROUP BY p.manufacturer, p.model\n",
        "ORDER BY flight_count DESC\n",
        "LIMIT 10\n",
        "\"\"\")\n",
        "\n",
        "print(result)"
      ]
    },
    {
      "cell_type": "markdown",
      "metadata": {
        "id": "OTFFyQnG6Z5U"
      },
      "source": [
        "### 4.2 Analyze route performance\n",
        "\n",
        "Find the top 10 routes (origin-destination pairs) with:\n",
        "- Total number of flights\n",
        "- Average departure delay\n",
        "- Percentage of flights delayed more than 30 minutes\n",
        "\n",
        "Include airport names, not just codes."
      ]
    },
    {
      "cell_type": "code",
      "source": [
        "# Write your SQL query here\n",
        "\n",
        "result = ctx.execute(\"\"\"\n",
        "    SELECT\n",
        "        origin_name,\n",
        "        dest_name,\n",
        "        COUNT(*) AS total_flights,\n",
        "        AVG(dep_delay) AS avg_dep_delay,\n",
        "        100.0 * AVG(CASE WHEN dep_delay > 30 THEN 1 ELSE 0 END) AS pct_delayed_over_30\n",
        "    FROM (\n",
        "        SELECT\n",
        "            f.dep_delay,\n",
        "            ao.name AS origin_name,\n",
        "            ad.name AS dest_name\n",
        "        FROM flights AS f\n",
        "        JOIN airports AS ao ON f.origin = ao.faa\n",
        "        JOIN airports AS ad ON f.dest = ad.faa\n",
        "    ) AS subquery\n",
        "    GROUP BY origin_name, dest_name\n",
        "    ORDER BY total_flights DESC\n",
        "    LIMIT 10\n",
        "\"\"\")\n",
        "\n",
        "print(result)"
      ],
      "metadata": {
        "colab": {
          "base_uri": "https://localhost:8080/"
        },
        "id": "R51s5aeEOjtL",
        "outputId": "8cfba333-8b1d-46ad-b1ae-8776ac4e5ad7"
      },
      "execution_count": 35,
      "outputs": [
        {
          "output_type": "stream",
          "name": "stdout",
          "text": [
            "shape: (10, 5)\n",
            "┌─────────────────────┬──────────────────────┬───────────────┬───────────────┬─────────────────────┐\n",
            "│ origin_name         ┆ dest_name            ┆ total_flights ┆ avg_dep_delay ┆ pct_delayed_over_30 │\n",
            "│ ---                 ┆ ---                  ┆ ---           ┆ ---           ┆ ---                 │\n",
            "│ str                 ┆ str                  ┆ u32           ┆ f64           ┆ f64                 │\n",
            "╞═════════════════════╪══════════════════════╪═══════════════╪═══════════════╪═════════════════════╡\n",
            "│ John F Kennedy Intl ┆ Los Angeles Intl     ┆ 11262         ┆ 8.522508      ┆ 9.829515            │\n",
            "│ La Guardia          ┆ Hartsfield Jackson   ┆ 10263         ┆ 11.448621     ┆ 12.247881           │\n",
            "│                     ┆ Atlanta Int…         ┆               ┆               ┆                     │\n",
            "│ La Guardia          ┆ Chicago Ohare Intl   ┆ 8857          ┆ 10.740758     ┆ 13.345377           │\n",
            "│ John F Kennedy Intl ┆ San Francisco Intl   ┆ 8204          ┆ 11.952691     ┆ 12.116041           │\n",
            "│ La Guardia          ┆ Charlotte Douglas    ┆ 6168          ┆ 8.965321      ┆ 11.948768           │\n",
            "│                     ┆ Intl                 ┆               ┆               ┆                     │\n",
            "│ Newark Liberty Intl ┆ Chicago Ohare Intl   ┆ 6100          ┆ 14.644163     ┆ 16.0                │\n",
            "│ John F Kennedy Intl ┆ General Edward       ┆ 5898          ┆ 11.694953     ┆ 13.767379           │\n",
            "│                     ┆ Lawrence Logan …     ┆               ┆               ┆                     │\n",
            "│ La Guardia          ┆ Miami Intl           ┆ 5781          ┆ 7.361747      ┆ 9.462031            │\n",
            "│ John F Kennedy Intl ┆ Orlando Intl         ┆ 5464          ┆ 10.601583     ┆ 12.719619           │\n",
            "│ Newark Liberty Intl ┆ General Edward       ┆ 5327          ┆ 12.54561      ┆ 14.9052             │\n",
            "│                     ┆ Lawrence Logan …     ┆               ┆               ┆                     │\n",
            "└─────────────────────┴──────────────────────┴───────────────┴───────────────┴─────────────────────┘\n"
          ]
        }
      ]
    },
    {
      "cell_type": "markdown",
      "metadata": {
        "id": "EWQxypwv6Z5V"
      },
      "source": [
        "## Bonus: Compare with Polars\n",
        "\n",
        "### Choose one of the queries above and implement it using Polars\n",
        "\n",
        "This will help you understand the relationship between SQL and Polars operations."
      ]
    },
    {
      "cell_type": "code",
      "source": [
        "# exercise 2.3 Calculate the on-time performance rate for each carrier. Consider a flight on-time if the departure delay is <= 15 minutes.\n",
        "import polars as pl\n",
        "\n",
        "total_flights_by_carrier = flights.group_by(\"carrier\").agg(pl.count().alias(\"total_flights\"))\n",
        "\n",
        "on_time_flights_by_carrier = (\n",
        "    flights\n",
        "    .filter(pl.col(\"dep_delay\") <= 15)\n",
        "    .group_by(\"carrier\")\n",
        "    .agg(pl.count().alias(\"ontime_flights\"))\n",
        ")\n",
        "\n",
        "ontime_performance = (\n",
        "    total_flights_by_carrier\n",
        "    .join(on_time_flights_by_carrier, on=\"carrier\", how=\"left\")\n",
        "    .with_columns(\n",
        "        (pl.col(\"ontime_flights\").fill_null(0) / pl.col(\"total_flights\")).alias(\"ontime_rate\")\n",
        "    )\n",
        "    .select([\"carrier\", \"ontime_rate\"])\n",
        "    .sort(\"ontime_rate\", descending=True)\n",
        ")\n",
        "\n",
        "print(ontime_performance)"
      ],
      "metadata": {
        "colab": {
          "base_uri": "https://localhost:8080/"
        },
        "id": "7sXToidJO7yB",
        "outputId": "9fc68ca8-ad44-452a-e5b6-75bc2617da1a"
      },
      "execution_count": 37,
      "outputs": [
        {
          "output_type": "stream",
          "name": "stdout",
          "text": [
            "shape: (16, 2)\n",
            "┌─────────┬─────────────┐\n",
            "│ carrier ┆ ontime_rate │\n",
            "│ ---     ┆ ---         │\n",
            "│ str     ┆ f64         │\n",
            "╞═════════╪═════════════╡\n",
            "│ HA      ┆ 0.929825    │\n",
            "│ AS      ┆ 0.865546    │\n",
            "│ US      ┆ 0.849873    │\n",
            "│ DL      ┆ 0.830742    │\n",
            "│ AA      ┆ 0.824376    │\n",
            "│ …       ┆ …           │\n",
            "│ FL      ┆ 0.716871    │\n",
            "│ F9      ┆ 0.715328    │\n",
            "│ 9E      ┆ 0.701246    │\n",
            "│ EV      ┆ 0.659221    │\n",
            "│ YV      ┆ 0.647255    │\n",
            "└─────────┴─────────────┘\n"
          ]
        },
        {
          "output_type": "stream",
          "name": "stderr",
          "text": [
            "/tmp/ipython-input-23752340.py:4: DeprecationWarning: `pl.count()` is deprecated. Please use `pl.len()` instead.\n",
            "  total_flights_by_carrier = flights.group_by(\"carrier\").agg(pl.count().alias(\"total_flights\"))\n",
            "/tmp/ipython-input-23752340.py:10: DeprecationWarning: `pl.count()` is deprecated. Please use `pl.len()` instead.\n",
            "  .agg(pl.count().alias(\"ontime_flights\"))\n"
          ]
        }
      ]
    },
    {
      "cell_type": "code",
      "execution_count": null,
      "metadata": {
        "id": "p3Mrv8qQ6Z5V"
      },
      "outputs": [],
      "source": [
        "# Example: Let's implement Exercise 2.1 (average delay by origin) in Polars\n",
        "\n",
        "# SQL version (for reference)\n",
        "sql_result = ctx.execute(\"\"\"\n",
        "    SELECT\n",
        "        origin,\n",
        "        AVG(dep_delay) as avg_delay\n",
        "    FROM flights\n",
        "    WHERE dep_delay IS NOT NULL\n",
        "    GROUP BY origin\n",
        "    ORDER BY avg_delay DESC\n",
        "\"\"\")\n",
        "\n",
        "# Polars version\n",
        "polars_result = (\n",
        "    flights\n",
        "    .filter(pl.col('dep_delay').is_not_null())\n",
        "    .group_by('origin')\n",
        "    .agg(pl.col('dep_delay').mean().alias('avg_delay'))\n",
        "    .sort('avg_delay', descending=True)\n",
        ")\n",
        "\n",
        "print(\"SQL Result:\")\n",
        "print(sql_result)\n",
        "print(\"\\nPolars Result:\")\n",
        "print(polars_result)\n",
        "\n",
        "# Now implement one of your own queries in Polars below:\n",
        "# Your Polars code here"
      ]
    }
  ],
  "metadata": {
    "kernelspec": {
      "display_name": "Python 3",
      "language": "python",
      "name": "python3"
    },
    "language_info": {
      "codemirror_mode": {
        "name": "ipython",
        "version": 3
      },
      "file_extension": ".py",
      "mimetype": "text/x-python",
      "name": "python",
      "nbconvert_exporter": "python",
      "pygments_lexer": "ipython3",
      "version": "3.8.0"
    },
    "colab": {
      "provenance": []
    }
  },
  "nbformat": 4,
  "nbformat_minor": 0
}